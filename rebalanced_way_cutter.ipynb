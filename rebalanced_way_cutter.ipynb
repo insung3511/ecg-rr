{
 "cells": [
  {
   "cell_type": "code",
   "execution_count": 5,
   "id": "49008db1",
   "metadata": {},
   "outputs": [
    {
     "name": "stdout",
     "output_type": "stream",
     "text": [
      "[INFO] Read records file from  ./pickle_mat/\n"
     ]
    },
    {
     "name": "stderr",
     "output_type": "stream",
     "text": [
      "100%|██████████| 48/48 [00:01<00:00, 39.05it/s]\n"
     ]
    }
   ],
   "source": [
    "from sklearn.model_selection import train_test_split\n",
    "from tqdm import tqdm\n",
    "from scipy import io\n",
    "import pandas as pd\n",
    "import numpy as np\n",
    "import random\n",
    "import pickle\n",
    "import os\n",
    "\n",
    "path = './pickle_mat/'\n",
    "rList = []\n",
    "\n",
    "# Read RECORDS txt file\n",
    "print(\"[INFO] Read records file from \", path)\n",
    "with open(path + 'RECORDS') as f:\n",
    "    record_lines = f.readlines()\n",
    "\n",
    "for i in range(len(record_lines)):\n",
    "    rList.append(str(record_lines[i].strip()))\n",
    "\n",
    "pickle_input = dict()\n",
    "X, y = [], []\n",
    "\n",
    "sigN, sigV, sigS, sigF, sigQ = [],[],[],[],[]\n",
    "annN, annV, annS, annF, annQ = [],[],[],[],[]\n",
    "\n",
    "for i in tqdm(range(len(rList))):\n",
    "    temp_path = path + \"mitPssigP_\" + rList[i] + \".pkl\"\n",
    "    with open(temp_path, 'rb') as f:\n",
    "        pickle_input = pickle.load(f)\n",
    "\n",
    "        for i in range(len(pickle_input[0])):\n",
    "            check_ann = pickle_input[1][i]\n",
    "    \n",
    "            if check_ann == \"N\":\n",
    "                sigN.append(pickle_input[0][i])\n",
    "                annN.append(0)\n",
    "\n",
    "            elif check_ann == \"S\":\n",
    "                sigS.append(pickle_input[0][i])\n",
    "                annS.append(1)\n",
    "\n",
    "            elif check_ann == \"V\":\n",
    "                sigV.append(pickle_input[0][i])\n",
    "                annV.append(2)\n",
    "\n",
    "            elif check_ann == \"F\":\n",
    "                sigF.append(pickle_input[0][i])\n",
    "                annF.append(3)\n",
    "\n",
    "            elif check_ann == \"Q\":\n",
    "                sigQ.append(pickle_input[0][i])\n",
    "                annQ.append(4)\n",
    "        \n",
    "            else:\n",
    "                pass\n",
    "\n",
    "sigN_np = np.array(sigN)\n",
    "annN_np = np.array(annN)\n",
    "\n",
    "sigS_np = np.array(sigS)\n",
    "annS_np = np.array(annS)\n",
    "\n",
    "sigV_np = np.array(sigV)\n",
    "annV_np = np.array(annV)\n",
    "\n",
    "sigF_np = np.array(sigF)\n",
    "annF_np = np.array(annF)\n",
    "\n",
    "sigQ_np = np.array(sigQ)\n",
    "annQ_np = np.array(sigQ)"
   ]
  },
  {
   "cell_type": "code",
   "execution_count": 6,
   "id": "a6466649",
   "metadata": {},
   "outputs": [],
   "source": [
    "sigN_ran = random.sample(sigN, 7000)\n",
    "annN_ran = random.sample(annN, 7000)\n",
    "sigN_np = np.array(sigN_ran)\n",
    "annN_np = np.array(annN_ran)\n",
    "sigV_ran = random.sample(sigV, 7000)\n",
    "annV_ran = random.sample(annV, 7000)\n",
    "sigV_np = np.array(sigV_ran)\n",
    "annV_np = np.array(annV_ran)\n",
    "sigQ_ran = random.sample(sigQ, 7000)\n",
    "annQ_ran = random.sample(annQ, 7000)\n",
    "sigQ_np = np.array(sigQ_ran)\n",
    "annQ_np = np.array(annQ_ran)\n",
    "\n",
    "Xtr_N, Xte_N, Ytr_N, Yte_N = train_test_split(sigN_np, annN_np, test_size=0.3, random_state=42, shuffle=True)\n",
    "Xtr_S, Xte_S, Ytr_S, Yte_S = train_test_split(sigS_np, annS_np, test_size=0.3, random_state=42, shuffle=True)\n",
    "Xtr_V, Xte_V, Ytr_V, Yte_V = train_test_split(sigV_np, annV_np, test_size=0.3, random_state=42, shuffle=True)\n",
    "Xtr_F, Xte_F, Ytr_F, Yte_F = train_test_split(sigF_np, annF_np, test_size=0.3, random_state=42, shuffle=True)\n",
    "Xtr_Q, Xte_Q, Ytr_Q, Yte_Q = train_test_split(sigQ_np, annQ_np, test_size=0.3, random_state=42, shuffle=True)"
   ]
  },
  {
   "cell_type": "code",
   "execution_count": 7,
   "id": "ff67dfe6",
   "metadata": {},
   "outputs": [
    {
     "name": "stdout",
     "output_type": "stream",
     "text": [
      "Xtr_N:  (4900, 428) , Xte_N:  (2100, 428) Ytr_N:  (4900,) Yte_N:  (2100,)\n"
     ]
    }
   ],
   "source": [
    "print(\"Xtr_N: \", Xtr_N.shape, \", Xte_N: \",Xte_N.shape, \"Ytr_N: \", Ytr_N.shape, \"Yte_N: \",Yte_N.shape)"
   ]
  },
  {
   "cell_type": "code",
   "execution_count": 8,
   "id": "86de9e17",
   "metadata": {},
   "outputs": [
    {
     "name": "stdout",
     "output_type": "stream",
     "text": [
      "Xtr_F:  (561, 428) , Xte_F:  (241, 428) Ytr_F:  (561,) Yte_F:  (241,)\n",
      "Xtr_S:  (1946, 428) , Xte_S:  (835, 428) Ytr_S:  (1946,) Yte_S:  (835,)\n"
     ]
    }
   ],
   "source": [
    "print(\"Xtr_F: \", Xtr_F.shape, \", Xte_F: \",Xte_F.shape, \"Ytr_F: \", Ytr_F.shape, \"Yte_F: \",Yte_F.shape)\n",
    "print(\"Xtr_S: \", Xtr_S.shape, \", Xte_S: \",Xte_S.shape, \"Ytr_S: \", Ytr_S.shape, \"Yte_S: \",Yte_S.shape)"
   ]
  },
  {
   "cell_type": "code",
   "execution_count": null,
   "id": "5ee899d0",
   "metadata": {},
   "outputs": [],
   "source": []
  }
 ],
 "metadata": {
  "kernelspec": {
   "display_name": "Python 3.9.13 ('gpu-tf')",
   "language": "python",
   "name": "python3"
  },
  "language_info": {
   "codemirror_mode": {
    "name": "ipython",
    "version": 3
   },
   "file_extension": ".py",
   "mimetype": "text/x-python",
   "name": "python",
   "nbconvert_exporter": "python",
   "pygments_lexer": "ipython3",
   "version": "3.9.13"
  },
  "vscode": {
   "interpreter": {
    "hash": "8f2ebc1b1865a26aaddfec20fe081a030ec8f24eea6acc3ab57dec62885edc43"
   }
  }
 },
 "nbformat": 4,
 "nbformat_minor": 5
}
