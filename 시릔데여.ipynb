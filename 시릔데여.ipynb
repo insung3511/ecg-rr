{
 "cells": [
  {
   "cell_type": "code",
   "execution_count": null,
   "id": "6622b818",
   "metadata": {},
   "outputs": [],
   "source": [
    "import pandas as pd\n",
    "import numpy as np\n",
    "import pickle\n",
    "import os\n",
    "\n",
    "rList = [\"100\", \"101\", \"102\", \"103\", \"104\", \"105\", \"106\", \"107\", \"108\", \"109\",\n",
    "         \"111\", \"112\", \"113\", \"114\", \"115\", \"116\", \"117\", \"118\", \"119\", \"121\",\n",
    "         \"122\", \"123\", \"124\", \"200\", \"201\", \"202\", \"203\", \"205\", \"207\", \"208\",\n",
    "         \"209\", \"210\", \"212\", \"213\", \"214\", \"215\", \"217\", \"219\", \"220\", \"221\",\n",
    "         \"222\", \"223\", \"228\", \"230\", \"231\", \"232\", \"233\", \"234\"]\n",
    "path = '../pi2/'\n",
    "\n",
    "for i in range(0,48):\n",
    "    dPath = path+\"mitPssigP_\"+rList[i]+\".pkl\"\n",
    "    \n",
    "    with open(dPath,\"rb\") as HB:\n",
    "        globals()[\"mit_{}\".format(i)] = pickle.load(HB)\n",
    "        globals()[\"df{}\".format(i)] = pd.DataFrame(data=globals()[\"mit_{}\".format(i)])\n",
    "\n",
    "mit = df0\n",
    "\n",
    "for i in range(1,48):\n",
    "    cctDf = globals()[\"df{}\".format(i)]\n",
    "    mit = pd.concat([mit,cctDf], axis=0)\n",
    "    \n",
    "mList = []\n",
    "for i in range(0,109448):\n",
    "    mList.append(mit.iloc[i][0])\n",
    "    \n",
    "Xdf = pd.DataFrame(data=mList)\n",
    "X = np.array(Xdf[list(range(428))].values)[..., np.newaxis]\n",
    "X = X.reshape(-1, 428, 1)\n",
    "\n",
    "yList=[]\n",
    "for i in range(0,109448):\n",
    "    yList.append(mit.iloc[i][1])\n",
    "    \n",
    "from sklearn.preprocessing import LabelEncoder\n",
    "from tensorflow.keras.utils import to_categorical\n",
    "\n",
    "oneHot = LabelEncoder()\n",
    "oneHot.fit(yList)\n",
    "Y = oneHot.transform(yList)\n",
    "Y = to_categorical(Y,5)\n",
    "\n",
    "print(\"X shape: \", X.shape)\n",
    "print(\"Y shape: \", Y.shape)\n",
    "\n",
    "dfY = pd.DataFrame(data=Y)\n",
    "print(dfY.value_counts())\n",
    "\n",
    "X_train, X_val, Y_train, Y_val = train_test_split(X, Y, test_size=0.3, random_state=42, stratify=Y)"
   ]
  },
  {
   "cell_type": "code",
   "execution_count": null,
   "id": "ec7c3b05",
   "metadata": {},
   "outputs": [],
   "source": []
  },
  {
   "cell_type": "code",
   "execution_count": null,
   "id": "8efe85b3",
   "metadata": {},
   "outputs": [],
   "source": []
  },
  {
   "cell_type": "code",
   "execution_count": null,
   "id": "8043b5f4",
   "metadata": {},
   "outputs": [],
   "source": []
  },
  {
   "cell_type": "code",
   "execution_count": null,
   "id": "f12abf31",
   "metadata": {},
   "outputs": [],
   "source": []
  },
  {
   "cell_type": "code",
   "execution_count": null,
   "id": "7b61534d",
   "metadata": {},
   "outputs": [],
   "source": []
  },
  {
   "cell_type": "code",
   "execution_count": null,
   "id": "28f504b1",
   "metadata": {},
   "outputs": [],
   "source": []
  },
  {
   "cell_type": "code",
   "execution_count": 1,
   "id": "49008db1",
   "metadata": {},
   "outputs": [
    {
     "name": "stderr",
     "output_type": "stream",
     "text": [
      "100%|██████████████████████████████████████████████████████████████████████████████████| 48/48 [00:01<00:00, 41.51it/s]\n"
     ]
    }
   ],
   "source": [
    "import numpy as np\n",
    "from scipy import io\n",
    "import pandas as pd\n",
    "from tqdm import tqdm\n",
    "import random\n",
    "import pickle\n",
    "import os\n",
    "\n",
    "from tqdm import tqdm\n",
    "import random\n",
    "import pickle\n",
    "import os\n",
    "\n",
    "rList = [\"100\", \"101\", \"102\", \"103\", \"104\", \"105\", \"106\", \"107\", \"108\", \"109\",\n",
    "         \"111\", \"112\", \"113\", \"114\", \"115\", \"116\", \"117\", \"118\", \"119\", \"121\",\n",
    "         \"122\", \"123\", \"124\", \"200\", \"201\", \"202\", \"203\", \"205\", \"207\", \"208\",\n",
    "         \"209\", \"210\", \"212\", \"213\", \"214\", \"215\", \"217\", \"219\", \"220\", \"221\",\n",
    "         \"222\", \"223\", \"228\", \"230\", \"231\", \"232\", \"233\", \"234\"]\n",
    "path = '../pi2/'\n",
    "pickle_input = dict()\n",
    "X, y = [], []\n",
    "\n",
    "sigN, sigV, sigS, sigF, sigQ = [],[],[],[],[]\n",
    "annN, annV, annS, annF, annQ = [],[],[],[],[]\n",
    "\n",
    "for i in tqdm(range(len(rList))):\n",
    "    temp_path = path + \"mitPssigP_\" + rList[i] + \".pkl\"\n",
    "    with open(temp_path, 'rb') as f:\n",
    "        pickle_input = pickle.load(f)\n",
    "\n",
    "        for i in range(len(pickle_input[0])):\n",
    "            check_ann = pickle_input[1][i]\n",
    "    \n",
    "            if check_ann == \"N\":\n",
    "                sigN.append(pickle_input[0][i])\n",
    "                annN.append(0)\n",
    "\n",
    "            elif check_ann == \"S\":\n",
    "                sigS.append(pickle_input[0][i])\n",
    "                annS.append(1)\n",
    "\n",
    "            elif check_ann == \"V\":\n",
    "                sigV.append(pickle_input[0][i])\n",
    "                annV.append(2)\n",
    "\n",
    "            elif check_ann == \"F\":\n",
    "                sigF.append(pickle_input[0][i])\n",
    "                annF.append(3)\n",
    "\n",
    "            elif check_ann == \"Q\":\n",
    "                sigQ.append(pickle_input[0][i])\n",
    "                annQ.append(4)\n",
    "        \n",
    "            else:\n",
    "                pass\n",
    "\n",
    "sigN_np = np.array(sigN)\n",
    "annN_np = np.array(annN)\n",
    "\n",
    "sigS_np = np.array(sigS)\n",
    "annS_np = np.array(annS)\n",
    "\n",
    "sigV_np = np.array(sigV)\n",
    "annV_np = np.array(annV)\n",
    "\n",
    "sigF_np = np.array(sigF)\n",
    "annF_np = np.array(annF)\n",
    "\n",
    "sigQ_np = np.array(sigQ)\n",
    "annQ_np = np.array(sigQ)"
   ]
  },
  {
   "cell_type": "code",
   "execution_count": 5,
   "id": "a6466649",
   "metadata": {},
   "outputs": [],
   "source": [
    "sigN_ran = random.sample(sigN, 7000)\n",
    "annN_ran = random.sample(annN, 7000)\n",
    "sigN_np = np.array(sigN_ran)\n",
    "annN_np = np.array(annN_ran)\n",
    "sigV_ran = random.sample(sigV, 7000)\n",
    "annV_ran = random.sample(annV, 7000)\n",
    "sigV_np = np.array(sigV_ran)\n",
    "annV_np = np.array(annV_ran)\n",
    "sigQ_ran = random.sample(sigQ, 7000)\n",
    "annQ_ran = random.sample(annQ, 7000)\n",
    "sigQ_np = np.array(sigQ_ran)\n",
    "annQ_np = np.array(annQ_ran)\n",
    "\n",
    "Xtr_N, Xte_N, Ytr_N, Yte_N = train_test_split(sigN_np, annN_np, test_size=0.3, random_state=42, shuffle=True)\n",
    "Xtr_S, Xte_S, Ytr_S, Yte_S = train_test_split(sigS_np, annS_np, test_size=0.3, random_state=42, shuffle=True)\n",
    "Xtr_V, Xte_V, Ytr_V, Yte_V = train_test_split(sigV_np, annV_np, test_size=0.3, random_state=42, shuffle=True)\n",
    "Xtr_F, Xte_F, Ytr_F, Yte_F = train_test_split(sigF_np, annF_np, test_size=0.3, random_state=42, shuffle=True)\n",
    "Xtr_Q, Xte_Q, Ytr_Q, Yte_Q = train_test_split(sigQ_np, annQ_np, test_size=0.3, random_state=42, shuffle=True)"
   ]
  },
  {
   "cell_type": "code",
   "execution_count": 4,
   "id": "04994835",
   "metadata": {},
   "outputs": [],
   "source": [
    "from sklearn.model_selection import train_test_split"
   ]
  },
  {
   "cell_type": "code",
   "execution_count": 7,
   "id": "ff67dfe6",
   "metadata": {},
   "outputs": [
    {
     "name": "stdout",
     "output_type": "stream",
     "text": [
      "Xtr_N:  (4900, 428) , Xte_N:  (2100, 428) Ytr_N:  (4900,) Yte_N:  (2100,)\n"
     ]
    }
   ],
   "source": [
    "print(\"Xtr_N: \", Xtr_N.shape, \", Xte_N: \",Xte_N.shape, \"Ytr_N: \", Ytr_N.shape, \"Yte_N: \",Yte_N.shape)"
   ]
  },
  {
   "cell_type": "code",
   "execution_count": 8,
   "id": "86de9e17",
   "metadata": {},
   "outputs": [
    {
     "name": "stdout",
     "output_type": "stream",
     "text": [
      "Xtr_F:  (561, 428) , Xte_F:  (241, 428) Ytr_F:  (561,) Yte_F:  (241,)\n",
      "Xtr_S:  (1946, 428) , Xte_S:  (835, 428) Ytr_S:  (1946,) Yte_S:  (835,)\n"
     ]
    }
   ],
   "source": [
    "print(\"Xtr_F: \", Xtr_F.shape, \", Xte_F: \",Xte_F.shape, \"Ytr_F: \", Ytr_F.shape, \"Yte_F: \",Yte_F.shape)\n",
    "print(\"Xtr_S: \", Xtr_S.shape, \", Xte_S: \",Xte_S.shape, \"Ytr_S: \", Ytr_S.shape, \"Yte_S: \",Yte_S.shape)"
   ]
  },
  {
   "cell_type": "code",
   "execution_count": 10,
   "id": "dff1c042",
   "metadata": {},
   "outputs": [],
   "source": [
    "df_Ftr = pd.DataFrame(data=Xtr_F)\n",
    "df_Str = pd.DataFrame(data=Xtr_S)\n",
    "df_Ftr.to_csv(\"df_Ftr.csv\")\n",
    "df_Str.to_csv(\"df_Str.csv\")"
   ]
  },
  {
   "cell_type": "code",
   "execution_count": null,
   "id": "da6efc40",
   "metadata": {},
   "outputs": [],
   "source": [
    "# Xtr_F np.array / 난수 13개 시드 지정 (1,2,3,4,5,,6,,6,11,,1,13)\n",
    "# Xtr_S np.array / 난수 4개의 시드 지정 (1,2,3,4)\n",
    "\n"
   ]
  }
 ],
 "metadata": {
  "kernelspec": {
   "display_name": "Python 3 (ipykernel)",
   "language": "python",
   "name": "python3"
  },
  "language_info": {
   "codemirror_mode": {
    "name": "ipython",
    "version": 3
   },
   "file_extension": ".py",
   "mimetype": "text/x-python",
   "name": "python",
   "nbconvert_exporter": "python",
   "pygments_lexer": "ipython3",
   "version": "3.8.12"
  }
 },
 "nbformat": 4,
 "nbformat_minor": 5
}
