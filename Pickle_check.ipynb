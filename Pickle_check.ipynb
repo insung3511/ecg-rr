{
 "cells": [
  {
   "cell_type": "code",
   "execution_count": 2,
   "id": "0e523046",
   "metadata": {},
   "outputs": [
    {
     "data": {
      "text/plain": [
       "['mit105.pkl',\n",
       " 'mit111.pkl',\n",
       " 'mit104.pkl',\n",
       " 'mit112.pkl',\n",
       " 'mit106.pkl',\n",
       " 'mit107.pkl',\n",
       " 'mit113.pkl',\n",
       " 'mit117.pkl',\n",
       " 'mit103.pkl',\n",
       " 'mit102.pkl',\n",
       " 'mit116.pkl',\n",
       " 'mit100.pkl',\n",
       " 'mit114.pkl',\n",
       " 'mit115.pkl',\n",
       " 'mit101.pkl',\n",
       " 'mit210.pkl',\n",
       " 'mit205.pkl',\n",
       " 'mit207.pkl',\n",
       " 'mit213.pkl',\n",
       " 'mit212.pkl',\n",
       " 'mit202.pkl',\n",
       " 'mit217.pkl',\n",
       " 'mit203.pkl',\n",
       " 'mit215.pkl',\n",
       " 'mit201.pkl',\n",
       " 'mit200.pkl',\n",
       " 'mit214.pkl',\n",
       " 'mit228.pkl',\n",
       " 'mit231.pkl',\n",
       " 'mit219.pkl',\n",
       " 'mit230.pkl',\n",
       " 'mit232.pkl',\n",
       " 'mit233.pkl',\n",
       " 'mit223.pkl',\n",
       " 'mit222.pkl',\n",
       " 'mit208.pkl',\n",
       " 'mit234.pkl',\n",
       " 'mit220.pkl',\n",
       " 'mit221.pkl',\n",
       " 'mit209.pkl',\n",
       " 'mit124.pkl',\n",
       " 'mit118.pkl',\n",
       " 'mit119.pkl',\n",
       " 'mit122.pkl',\n",
       " 'mit123.pkl',\n",
       " 'mit109.pkl',\n",
       " 'mit121.pkl',\n",
       " 'mit108.pkl']"
      ]
     },
     "execution_count": 2,
     "metadata": {},
     "output_type": "execute_result"
    }
   ],
   "source": [
    "import os\n",
    "\n",
    "path = './pickle' # pickle 폴더 위치\n",
    "file_list = os.listdir(path)\n",
    "\n",
    "[file for file in file_list if file.endswith('.pkl')]"
   ]
  },
  {
   "cell_type": "code",
   "execution_count": 3,
   "id": "c002e968",
   "metadata": {},
   "outputs": [
    {
     "name": "stdout",
     "output_type": "stream",
     "text": [
      "['mit105.pkl', 'mit111.pkl', 'mit104.pkl', 'mit112.pkl', 'mit106.pkl', 'mit107.pkl', 'mit113.pkl', 'mit117.pkl', 'mit103.pkl', 'mit102.pkl', 'mit116.pkl', 'mit100.pkl', 'mit114.pkl', 'mit115.pkl', 'mit101.pkl', 'mit210.pkl', 'mit205.pkl', 'mit207.pkl', 'mit213.pkl', 'mit212.pkl', 'mit202.pkl', 'mit217.pkl', 'mit203.pkl', 'mit215.pkl', 'mit201.pkl', 'mit200.pkl', 'mit214.pkl', 'mit228.pkl', 'mit231.pkl', 'mit219.pkl', 'mit230.pkl', 'mit232.pkl', 'mit233.pkl', 'mit223.pkl', 'mit222.pkl', 'mit208.pkl', 'mit234.pkl', 'mit220.pkl', 'mit221.pkl', 'mit209.pkl', 'mit124.pkl', 'mit118.pkl', 'mit119.pkl', 'mit122.pkl', 'mit123.pkl', 'mit109.pkl', 'mit121.pkl', 'mit108.pkl']\n"
     ]
    }
   ],
   "source": [
    "print(file_list[0:48]) # mit DB만 출력해보기"
   ]
  },
  {
   "cell_type": "code",
   "execution_count": 4,
   "id": "89bf3711",
   "metadata": {},
   "outputs": [
    {
     "name": "stdout",
     "output_type": "stream",
     "text": [
      "mit105.pkl (2690, 428) (2690,)\n",
      "mit111.pkl (2132, 428) (2132,)\n",
      "mit104.pkl (2310, 428) (2310,)\n",
      "mit112.pkl (2549, 428) (2549,)\n",
      "mit106.pkl (2097,) (2097,)\n",
      "mit107.pkl (2139, 428) (2139,)\n",
      "mit113.pkl (1795,) (1795,)\n",
      "mit117.pkl (1538,) (1538,)\n",
      "mit103.pkl (2090, 428) (2090,)\n",
      "mit102.pkl (2191, 428) (2191,)\n",
      "mit116.pkl (2420, 428) (2420,)\n",
      "mit100.pkl (2273, 428) (2273,)\n"
     ]
    },
    {
     "name": "stderr",
     "output_type": "stream",
     "text": [
      "/var/folders/_8/q_cwh5hn0s1dxsrzq2d040p80000gn/T/ipykernel_74768/4203244397.py:11: VisibleDeprecationWarning: Creating an ndarray from ragged nested sequences (which is a list-or-tuple of lists-or-tuples-or ndarrays with different lengths or shapes) is deprecated. If you meant to do this, you must specify 'dtype=object' when creating the ndarray.\n",
      "  X_val = np.array(x)\n"
     ]
    },
    {
     "name": "stdout",
     "output_type": "stream",
     "text": [
      "mit114.pkl (1889,) (1889,)\n",
      "mit115.pkl (1961,) (1961,)\n",
      "mit101.pkl (1873, 428) (1873,)\n",
      "mit210.pkl (2684,) (2684,)\n",
      "mit205.pkl (2671, 428) (2671,)\n",
      "mit207.pkl (2384,) (2384,)\n",
      "mit213.pkl (3293, 428) (3293,)\n",
      "mit212.pkl (2762, 428) (2762,)\n",
      "mit202.pkl (2145,) (2145,)\n",
      "mit217.pkl (2279, 428) (2279,)\n",
      "mit203.pkl (3107,) (3107,)\n",
      "mit215.pkl (3399, 428) (3399,)\n",
      "mit201.pkl (2038,) (2038,)\n",
      "mit200.pkl (2791, 428) (2791,)\n",
      "mit214.pkl (2296,) (2296,)\n",
      "mit228.pkl (2140,) (2140,)\n",
      "mit231.pkl (2010, 428) (2010,)\n",
      "mit219.pkl (2311,) (2311,)\n",
      "mit230.pkl (2465, 428) (2465,)\n",
      "mit232.pkl (1815,) (1815,)\n",
      "mit233.pkl (3151, 428) (3151,)\n",
      "mit223.pkl (2642, 428) (2642,)\n",
      "mit222.pkl (2633,) (2633,)\n",
      "mit208.pkl (3039,) (3039,)\n",
      "mit234.pkl (2763, 428) (2763,)\n",
      "mit220.pkl (2068, 428) (2068,)\n",
      "mit221.pkl (2461,) (2461,)\n",
      "mit209.pkl (3051, 428) (3051,)\n",
      "mit124.pkl (1633,) (1633,)\n",
      "mit118.pkl (2300, 428) (2300,)\n",
      "mit119.pkl (2093,) (2093,)\n",
      "mit122.pkl (2478, 428) (2478,)\n",
      "mit123.pkl (1518,) (1518,)\n",
      "mit109.pkl (2534, 428) (2534,)\n",
      "mit121.pkl (1875,) (1875,)\n",
      "mit108.pkl (1823,) (1823,)\n"
     ]
    }
   ],
   "source": [
    "import pickle\n",
    "import numpy as np\n",
    "\n",
    "file_list = sorted(file_list)\n",
    "\n",
    "for i in range(48):    \n",
    "    with open(path + '/' + file_list[i],\"rb\") as fr:\n",
    "        data = pickle.load(fr)\n",
    "        \n",
    "    x = data.get(0)\n",
    "\n",
    "    X_val = np.array(x)\n",
    "    \n",
    "    y = data.get(1)\n",
    "\n",
    "    Y_val = np.array(y)\n",
    "    \n",
    "    print(file_list[i], X_val.shape, Y_val.shape)"
   ]
  },
  {
   "cell_type": "code",
   "execution_count": null,
   "id": "d023a8a2",
   "metadata": {},
   "outputs": [],
   "source": []
  }
 ],
 "metadata": {
  "interpreter": {
   "hash": "155d6f2e0f64686ab4bfd14ea62d28fe51bc71031495ea0caf798feb858e6597"
  },
  "kernelspec": {
   "display_name": "Python 3.9.7 ('base')",
   "language": "python",
   "name": "python3"
  },
  "language_info": {
   "codemirror_mode": {
    "name": "ipython",
    "version": 3
   },
   "file_extension": ".py",
   "mimetype": "text/x-python",
   "name": "python",
   "nbconvert_exporter": "python",
   "pygments_lexer": "ipython3",
   "version": "3.9.7"
  }
 },
 "nbformat": 4,
 "nbformat_minor": 5
}
